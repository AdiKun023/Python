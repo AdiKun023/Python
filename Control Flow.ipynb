{
 "cells": [
  {
   "cell_type": "code",
   "execution_count": 4,
   "id": "f401abe8",
   "metadata": {},
   "outputs": [
    {
     "name": "stdout",
     "output_type": "stream",
     "text": [
      "Give me water\n"
     ]
    }
   ],
   "source": [
    "thirsty = True\n",
    "if thirsty: \n",
    "    print('Give me water')\n",
    "else:\n",
    "    print('No need')"
   ]
  },
  {
   "cell_type": "code",
   "execution_count": 10,
   "id": "467357df",
   "metadata": {},
   "outputs": [
    {
     "name": "stdout",
     "output_type": "stream",
     "text": [
      "LEOPARD\n"
     ]
    }
   ],
   "source": [
    "loct = 'Jungle'\n",
    "if loct == 'Garage':\n",
    "    print('Safe Car')\n",
    "elif loct == 'Mall':\n",
    "    print('Tourists')\n",
    "elif loct == 'Jungle':\n",
    "    print('LEOPARD')\n",
    "else:\n",
    "    print('I dont Know')"
   ]
  },
  {
   "cell_type": "code",
   "execution_count": 14,
   "id": "07766a09",
   "metadata": {},
   "outputs": [
    {
     "name": "stdout",
     "output_type": "stream",
     "text": [
      "Hello Sultan\n"
     ]
    }
   ],
   "source": [
    "name = 'Sultan'\n",
    "if name == 'Caesar':\n",
    "    print('Hello Caesar')\n",
    "elif name == 'Sultan':\n",
    "    print('Hello Sultan')\n",
    "else:\n",
    "    print('Who TF are you?')"
   ]
  },
  {
   "cell_type": "code",
   "execution_count": null,
   "id": "8f53f8ea",
   "metadata": {},
   "outputs": [],
   "source": []
  }
 ],
 "metadata": {
  "kernelspec": {
   "display_name": "Python 3",
   "language": "python",
   "name": "python3"
  },
  "language_info": {
   "codemirror_mode": {
    "name": "ipython",
    "version": 3
   },
   "file_extension": ".py",
   "mimetype": "text/x-python",
   "name": "python",
   "nbconvert_exporter": "python",
   "pygments_lexer": "ipython3",
   "version": "3.8.8"
  }
 },
 "nbformat": 4,
 "nbformat_minor": 5
}
