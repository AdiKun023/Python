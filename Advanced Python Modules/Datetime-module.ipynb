{
 "cells": [
  {
   "cell_type": "code",
   "execution_count": 1,
   "id": "d2b12c3e",
   "metadata": {},
   "outputs": [],
   "source": [
    "import datetime"
   ]
  },
  {
   "cell_type": "code",
   "execution_count": 10,
   "id": "1d9df66e",
   "metadata": {},
   "outputs": [],
   "source": [
    "mytime = datetime.time(12,20,5,3)"
   ]
  },
  {
   "cell_type": "code",
   "execution_count": 11,
   "id": "928735bd",
   "metadata": {},
   "outputs": [
    {
     "data": {
      "text/plain": [
       "20"
      ]
     },
     "execution_count": 11,
     "metadata": {},
     "output_type": "execute_result"
    }
   ],
   "source": [
    "mytime.minute"
   ]
  },
  {
   "cell_type": "code",
   "execution_count": 12,
   "id": "9ac8aeec",
   "metadata": {},
   "outputs": [
    {
     "data": {
      "text/plain": [
       "12"
      ]
     },
     "execution_count": 12,
     "metadata": {},
     "output_type": "execute_result"
    }
   ],
   "source": [
    "mytime.hour"
   ]
  },
  {
   "cell_type": "code",
   "execution_count": 13,
   "id": "cf8a6fea",
   "metadata": {},
   "outputs": [
    {
     "name": "stdout",
     "output_type": "stream",
     "text": [
      "12:20:05.000003\n"
     ]
    }
   ],
   "source": [
    "print(mytime)"
   ]
  },
  {
   "cell_type": "code",
   "execution_count": 14,
   "id": "392c3ae9",
   "metadata": {},
   "outputs": [
    {
     "data": {
      "text/plain": [
       "3"
      ]
     },
     "execution_count": 14,
     "metadata": {},
     "output_type": "execute_result"
    }
   ],
   "source": [
    "mytime.microsecond"
   ]
  },
  {
   "cell_type": "code",
   "execution_count": 15,
   "id": "73663ef2",
   "metadata": {},
   "outputs": [
    {
     "data": {
      "text/plain": [
       "datetime.time"
      ]
     },
     "execution_count": 15,
     "metadata": {},
     "output_type": "execute_result"
    }
   ],
   "source": [
    "type(mytime)"
   ]
  },
  {
   "cell_type": "code",
   "execution_count": 16,
   "id": "01f2c86e",
   "metadata": {},
   "outputs": [],
   "source": [
    " today = datetime.date.today()"
   ]
  },
  {
   "cell_type": "code",
   "execution_count": 17,
   "id": "e9992032",
   "metadata": {},
   "outputs": [
    {
     "name": "stdout",
     "output_type": "stream",
     "text": [
      "2022-02-08\n"
     ]
    }
   ],
   "source": [
    "print(today)"
   ]
  },
  {
   "cell_type": "code",
   "execution_count": 18,
   "id": "8e36fe39",
   "metadata": {},
   "outputs": [
    {
     "data": {
      "text/plain": [
       "2"
      ]
     },
     "execution_count": 18,
     "metadata": {},
     "output_type": "execute_result"
    }
   ],
   "source": [
    "today.month"
   ]
  },
  {
   "cell_type": "code",
   "execution_count": 19,
   "id": "2a9e8a8e",
   "metadata": {},
   "outputs": [
    {
     "data": {
      "text/plain": [
       "2022"
      ]
     },
     "execution_count": 19,
     "metadata": {},
     "output_type": "execute_result"
    }
   ],
   "source": [
    "today.year"
   ]
  },
  {
   "cell_type": "code",
   "execution_count": 21,
   "id": "5e5ea6e5",
   "metadata": {},
   "outputs": [
    {
     "data": {
      "text/plain": [
       "'Tue Feb  8 00:00:00 2022'"
      ]
     },
     "execution_count": 21,
     "metadata": {},
     "output_type": "execute_result"
    }
   ],
   "source": [
    "today.ctime()"
   ]
  },
  {
   "cell_type": "code",
   "execution_count": 23,
   "id": "fd81a9a2",
   "metadata": {},
   "outputs": [],
   "source": [
    "from datetime import datetime"
   ]
  },
  {
   "cell_type": "code",
   "execution_count": 24,
   "id": "4973bc7f",
   "metadata": {},
   "outputs": [],
   "source": [
    "mydatetime = datetime(2022,2,8,13,45,23)"
   ]
  },
  {
   "cell_type": "code",
   "execution_count": 25,
   "id": "b459de83",
   "metadata": {},
   "outputs": [
    {
     "name": "stdout",
     "output_type": "stream",
     "text": [
      "2022-02-08 13:45:23\n"
     ]
    }
   ],
   "source": [
    "print(mydatetime)"
   ]
  },
  {
   "cell_type": "code",
   "execution_count": 28,
   "id": "7bdbadc0",
   "metadata": {},
   "outputs": [],
   "source": [
    "mydatetime = mydatetime.replace(year=2023)"
   ]
  },
  {
   "cell_type": "code",
   "execution_count": 29,
   "id": "85d98add",
   "metadata": {},
   "outputs": [
    {
     "name": "stdout",
     "output_type": "stream",
     "text": [
      "2023-02-08 13:45:23\n"
     ]
    }
   ],
   "source": [
    "print(mydatetime)"
   ]
  },
  {
   "cell_type": "code",
   "execution_count": 30,
   "id": "ea3e5a77",
   "metadata": {},
   "outputs": [],
   "source": [
    "# DATE"
   ]
  },
  {
   "cell_type": "code",
   "execution_count": 31,
   "id": "993ef14b",
   "metadata": {},
   "outputs": [],
   "source": [
    "from datetime import date"
   ]
  },
  {
   "cell_type": "code",
   "execution_count": 33,
   "id": "6f7f4223",
   "metadata": {},
   "outputs": [],
   "source": [
    "date1 = date(2022,8,9)\n",
    "date2 = date(2021,8,9)"
   ]
  },
  {
   "cell_type": "code",
   "execution_count": 36,
   "id": "2acc561b",
   "metadata": {},
   "outputs": [],
   "source": [
    "result = date1 - date2"
   ]
  },
  {
   "cell_type": "code",
   "execution_count": 37,
   "id": "b77bc889",
   "metadata": {},
   "outputs": [
    {
     "data": {
      "text/plain": [
       "datetime.timedelta"
      ]
     },
     "execution_count": 37,
     "metadata": {},
     "output_type": "execute_result"
    }
   ],
   "source": [
    "type(result)"
   ]
  },
  {
   "cell_type": "code",
   "execution_count": 38,
   "id": "023cee6f",
   "metadata": {},
   "outputs": [],
   "source": [
    "datetime1 = datetime(2022,8,9,23,0)\n",
    "datetime2 = datetime(2021,8,9,13,0)"
   ]
  },
  {
   "cell_type": "code",
   "execution_count": 39,
   "id": "2e6f09c8",
   "metadata": {},
   "outputs": [
    {
     "data": {
      "text/plain": [
       "datetime.timedelta(days=365, seconds=36000)"
      ]
     },
     "execution_count": 39,
     "metadata": {},
     "output_type": "execute_result"
    }
   ],
   "source": [
    "datetime1 - datetime2"
   ]
  },
  {
   "cell_type": "code",
   "execution_count": 40,
   "id": "10740008",
   "metadata": {},
   "outputs": [],
   "source": [
    "mydiff = datetime1 - datetime2"
   ]
  },
  {
   "cell_type": "code",
   "execution_count": 41,
   "id": "71c13294",
   "metadata": {},
   "outputs": [
    {
     "data": {
      "text/plain": [
       "36000"
      ]
     },
     "execution_count": 41,
     "metadata": {},
     "output_type": "execute_result"
    }
   ],
   "source": [
    "mydiff.seconds"
   ]
  },
  {
   "cell_type": "code",
   "execution_count": 43,
   "id": "d009620e",
   "metadata": {},
   "outputs": [
    {
     "data": {
      "text/plain": [
       "31572000.0"
      ]
     },
     "execution_count": 43,
     "metadata": {},
     "output_type": "execute_result"
    }
   ],
   "source": [
    "mydiff.total_seconds()"
   ]
  },
  {
   "cell_type": "code",
   "execution_count": null,
   "id": "ac16bd0f",
   "metadata": {},
   "outputs": [],
   "source": []
  }
 ],
 "metadata": {
  "kernelspec": {
   "display_name": "Python 3",
   "language": "python",
   "name": "python3"
  },
  "language_info": {
   "codemirror_mode": {
    "name": "ipython",
    "version": 3
   },
   "file_extension": ".py",
   "mimetype": "text/x-python",
   "name": "python",
   "nbconvert_exporter": "python",
   "pygments_lexer": "ipython3",
   "version": "3.8.8"
  }
 },
 "nbformat": 4,
 "nbformat_minor": 5
}
