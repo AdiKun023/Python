{
 "cells": [
  {
   "cell_type": "code",
   "execution_count": null,
   "id": "7dc678bd",
   "metadata": {},
   "outputs": [],
   "source": [
    "def add(n1,n2):\n",
    "    print(n1+n2)"
   ]
  },
  {
   "cell_type": "code",
   "execution_count": null,
   "id": "b1b0512b",
   "metadata": {},
   "outputs": [],
   "source": [
    "add(20,10)"
   ]
  },
  {
   "cell_type": "code",
   "execution_count": null,
   "id": "c8a867b5",
   "metadata": {},
   "outputs": [],
   "source": [
    "number1 = 10"
   ]
  },
  {
   "cell_type": "code",
   "execution_count": null,
   "id": "a11d6044",
   "metadata": {},
   "outputs": [],
   "source": [
    "number2 = input(\"Please provide a number: \")"
   ]
  },
  {
   "cell_type": "code",
   "execution_count": null,
   "id": "ab0ef1f5",
   "metadata": {},
   "outputs": [],
   "source": [
    "add(number1,number2)"
   ]
  },
  {
   "cell_type": "code",
   "execution_count": null,
   "id": "ebe818c8",
   "metadata": {},
   "outputs": [],
   "source": [
    "try:\n",
    "    # Want to attempt this code.\n",
    "    \n",
    "    result =  10 + '10'\n",
    "except:\n",
    "    print(\"It looks like you are not adding correctly!\")\n",
    "else:\n",
    "    print(\"Add went well!\")\n",
    "    print(result)"
   ]
  },
  {
   "cell_type": "code",
   "execution_count": null,
   "id": "80ac827b",
   "metadata": {},
   "outputs": [],
   "source": [
    "result"
   ]
  },
  {
   "cell_type": "code",
   "execution_count": null,
   "id": "d0733e57",
   "metadata": {},
   "outputs": [],
   "source": []
  },
  {
   "cell_type": "code",
   "execution_count": null,
   "id": "7c998f3a",
   "metadata": {},
   "outputs": [],
   "source": []
  },
  {
   "cell_type": "code",
   "execution_count": null,
   "id": "a35a6b21",
   "metadata": {},
   "outputs": [],
   "source": []
  },
  {
   "cell_type": "code",
   "execution_count": null,
   "id": "c74e12e2",
   "metadata": {},
   "outputs": [],
   "source": [
    "try:\n",
    "    f = open('testfile','w')\n",
    "    f.write(\"write a test line\")\n",
    "except:\n",
    "    print(\"All other exceptions!\")\n",
    "finally:\n",
    "    print(\"I always run!\")\n",
    "    "
   ]
  },
  {
   "cell_type": "code",
   "execution_count": 3,
   "id": "ab72c96e",
   "metadata": {},
   "outputs": [],
   "source": [
    "def ask_for_int():\n",
    "    \n",
    "    while True:\n",
    "        \n",
    "        \n",
    "        try:\n",
    "            result = int(input(\"Please provide a number: \"))\n",
    "        except:\n",
    "            print(\"Whoops! That is not a number.\")\n",
    "            continue\n",
    "        else:\n",
    "            print(\"Yes thank you\")\n",
    "            break\n",
    "            \n",
    "        finally:\n",
    "            print(\"End of try/except/finally!\")\n",
    "            print(\"I will always run at the end\")\n"
   ]
  },
  {
   "cell_type": "code",
   "execution_count": 5,
   "id": "26d7a578",
   "metadata": {},
   "outputs": [
    {
     "name": "stdout",
     "output_type": "stream",
     "text": [
      "Please provide a number: w\n",
      "Whoops! That is not a number.\n",
      "End of try/except/finally!\n",
      "I will always run at the end\n",
      "Please provide a number: e\n",
      "Whoops! That is not a number.\n",
      "End of try/except/finally!\n",
      "I will always run at the end\n",
      "Please provide a number: \"w\"\n",
      "Whoops! That is not a number.\n",
      "End of try/except/finally!\n",
      "I will always run at the end\n",
      "Please provide a number: 20\n",
      "Yes thank you\n",
      "End of try/except/finally!\n",
      "I will always run at the end\n"
     ]
    }
   ],
   "source": [
    "ask_for_int()"
   ]
  },
  {
   "cell_type": "code",
   "execution_count": null,
   "id": "20d65ca9",
   "metadata": {},
   "outputs": [],
   "source": []
  }
 ],
 "metadata": {
  "kernelspec": {
   "display_name": "Python 3",
   "language": "python",
   "name": "python3"
  },
  "language_info": {
   "codemirror_mode": {
    "name": "ipython",
    "version": 3
   },
   "file_extension": ".py",
   "mimetype": "text/x-python",
   "name": "python",
   "nbconvert_exporter": "python",
   "pygments_lexer": "ipython3",
   "version": "3.8.8"
  }
 },
 "nbformat": 4,
 "nbformat_minor": 5
}
