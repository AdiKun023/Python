{
 "cells": [
  {
   "cell_type": "code",
   "execution_count": 1,
   "id": "41600390",
   "metadata": {},
   "outputs": [],
   "source": [
    "import requests"
   ]
  },
  {
   "cell_type": "code",
   "execution_count": 2,
   "id": "78e2b798",
   "metadata": {},
   "outputs": [],
   "source": [
    "import bs4"
   ]
  },
  {
   "cell_type": "code",
   "execution_count": 4,
   "id": "8f3f92de",
   "metadata": {},
   "outputs": [],
   "source": [
    "res = requests.get('https://en.wikipedia.org/wiki/Subhas_Chandra_Bose')"
   ]
  },
  {
   "cell_type": "code",
   "execution_count": 5,
   "id": "c48eab6d",
   "metadata": {},
   "outputs": [],
   "source": [
    "soup = bs4.BeautifulSoup(res.text,\"lxml\")"
   ]
  },
  {
   "cell_type": "code",
   "execution_count": 6,
   "id": "faa10d05",
   "metadata": {},
   "outputs": [],
   "source": [
    "#soup"
   ]
  },
  {
   "cell_type": "code",
   "execution_count": 7,
   "id": "be76c02d",
   "metadata": {},
   "outputs": [
    {
     "data": {
      "text/plain": [
       "[<span class=\"toctext\">Biography</span>,\n",
       " <span class=\"toctext\">1897–1921: Early life</span>,\n",
       " <span class=\"toctext\">1921–1932: Indian National Congress</span>,\n",
       " <span class=\"toctext\">1933–1937: Illness, Austria, Emilie Schenkl</span>,\n",
       " <span class=\"toctext\">1937–1940: Indian National Congress</span>,\n",
       " <span class=\"toctext\">1941: Escape to Germany</span>,\n",
       " <span class=\"toctext\">1941–1943: Nazi Germany</span>,\n",
       " <span class=\"toctext\">1943–1945: Japanese-occupied Asia</span>,\n",
       " <span class=\"toctext\">18 August 1945: Death</span>,\n",
       " <span class=\"toctext\">Ideology</span>,\n",
       " <span class=\"toctext\">Quotes</span>,\n",
       " <span class=\"toctext\">Legacy</span>,\n",
       " <span class=\"toctext\">Memorials</span>,\n",
       " <span class=\"toctext\">In popular media</span>,\n",
       " <span class=\"toctext\">See also</span>,\n",
       " <span class=\"toctext\">Footnotes</span>,\n",
       " <span class=\"toctext\">Notes</span>,\n",
       " <span class=\"toctext\">References</span>,\n",
       " <span class=\"toctext\">Bibliography</span>,\n",
       " <span class=\"toctext\">Further reading</span>,\n",
       " <span class=\"toctext\">External links</span>]"
      ]
     },
     "execution_count": 7,
     "metadata": {},
     "output_type": "execute_result"
    }
   ],
   "source": [
    "soup.select('.toctext')"
   ]
  },
  {
   "cell_type": "code",
   "execution_count": 10,
   "id": "a2b048d1",
   "metadata": {},
   "outputs": [
    {
     "data": {
      "text/plain": [
       "bs4.element.ResultSet"
      ]
     },
     "execution_count": 10,
     "metadata": {},
     "output_type": "execute_result"
    }
   ],
   "source": [
    "type(soup.select('.toctext'))"
   ]
  },
  {
   "cell_type": "code",
   "execution_count": 17,
   "id": "6d704b44",
   "metadata": {},
   "outputs": [
    {
     "data": {
      "text/plain": [
       "<span class=\"toctext\">1921–1932: Indian National Congress</span>"
      ]
     },
     "execution_count": 17,
     "metadata": {},
     "output_type": "execute_result"
    }
   ],
   "source": [
    "soup.select('.toctext')[2]"
   ]
  },
  {
   "cell_type": "code",
   "execution_count": 18,
   "id": "f16ca75c",
   "metadata": {},
   "outputs": [
    {
     "data": {
      "text/plain": [
       "bs4.element.Tag"
      ]
     },
     "execution_count": 18,
     "metadata": {},
     "output_type": "execute_result"
    }
   ],
   "source": [
    "type(soup.select('.toctext')[2])"
   ]
  },
  {
   "cell_type": "code",
   "execution_count": 22,
   "id": "27f762ed",
   "metadata": {},
   "outputs": [],
   "source": [
    "third_item = soup.select('.toctext')[2]"
   ]
  },
  {
   "cell_type": "code",
   "execution_count": 23,
   "id": "2301a606",
   "metadata": {},
   "outputs": [
    {
     "data": {
      "text/plain": [
       "'1921–1932: Indian National Congress'"
      ]
     },
     "execution_count": 23,
     "metadata": {},
     "output_type": "execute_result"
    }
   ],
   "source": [
    "third_item.text"
   ]
  },
  {
   "cell_type": "code",
   "execution_count": 24,
   "id": "2ad2de84",
   "metadata": {},
   "outputs": [
    {
     "name": "stdout",
     "output_type": "stream",
     "text": [
      "Biography\n",
      "1897–1921: Early life\n",
      "1921–1932: Indian National Congress\n",
      "1933–1937: Illness, Austria, Emilie Schenkl\n",
      "1937–1940: Indian National Congress\n",
      "1941: Escape to Germany\n",
      "1941–1943: Nazi Germany\n",
      "1943–1945: Japanese-occupied Asia\n",
      "18 August 1945: Death\n",
      "Ideology\n",
      "Quotes\n",
      "Legacy\n",
      "Memorials\n",
      "In popular media\n",
      "See also\n",
      "Footnotes\n",
      "Notes\n",
      "References\n",
      "Bibliography\n",
      "Further reading\n",
      "External links\n"
     ]
    }
   ],
   "source": [
    "for item in soup.select('.toctext'):\n",
    "    print(item.text)"
   ]
  },
  {
   "cell_type": "code",
   "execution_count": null,
   "id": "28cddd18",
   "metadata": {},
   "outputs": [],
   "source": []
  }
 ],
 "metadata": {
  "kernelspec": {
   "display_name": "Python 3",
   "language": "python",
   "name": "python3"
  },
  "language_info": {
   "codemirror_mode": {
    "name": "ipython",
    "version": 3
   },
   "file_extension": ".py",
   "mimetype": "text/x-python",
   "name": "python",
   "nbconvert_exporter": "python",
   "pygments_lexer": "ipython3",
   "version": "3.8.8"
  }
 },
 "nbformat": 4,
 "nbformat_minor": 5
}
