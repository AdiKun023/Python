{
 "cells": [
  {
   "cell_type": "code",
   "execution_count": 4,
   "id": "1ba3d5af",
   "metadata": {},
   "outputs": [],
   "source": [
    "def say_hi():\n",
    "    print('hi')\n",
    "    print('buddy')"
   ]
  },
  {
   "cell_type": "code",
   "execution_count": 5,
   "id": "6eb60fb6",
   "metadata": {},
   "outputs": [
    {
     "name": "stdout",
     "output_type": "stream",
     "text": [
      "hi\n",
      "buddy\n"
     ]
    }
   ],
   "source": [
    "say_hi()"
   ]
  },
  {
   "cell_type": "code",
   "execution_count": 8,
   "id": "c7419b70",
   "metadata": {},
   "outputs": [],
   "source": [
    "def say_hi(name):\n",
    "    print(f'Hi {name}')"
   ]
  },
  {
   "cell_type": "code",
   "execution_count": 16,
   "id": "5499335b",
   "metadata": {},
   "outputs": [
    {
     "name": "stdout",
     "output_type": "stream",
     "text": [
      "Hi Bob\n"
     ]
    }
   ],
   "source": [
    "say_hi('Bob')"
   ]
  },
  {
   "cell_type": "code",
   "execution_count": 12,
   "id": "07418201",
   "metadata": {},
   "outputs": [],
   "source": [
    "def say_hi(name='Default'):\n",
    "    print(f'Hi {name}')"
   ]
  },
  {
   "cell_type": "code",
   "execution_count": 13,
   "id": "d19f5b82",
   "metadata": {},
   "outputs": [
    {
     "name": "stdout",
     "output_type": "stream",
     "text": [
      "Hi Default\n"
     ]
    }
   ],
   "source": [
    "say_hi()"
   ]
  },
  {
   "cell_type": "code",
   "execution_count": 15,
   "id": "1a622b1e",
   "metadata": {},
   "outputs": [
    {
     "name": "stdout",
     "output_type": "stream",
     "text": [
      "Hi Rom\n"
     ]
    }
   ],
   "source": [
    "say_hi('Rom')"
   ]
  },
  {
   "cell_type": "code",
   "execution_count": 17,
   "id": "4d5ee5fe",
   "metadata": {},
   "outputs": [],
   "source": [
    "def add_num(num1,num2):\n",
    "    return num1+num2"
   ]
  },
  {
   "cell_type": "code",
   "execution_count": 18,
   "id": "7855a248",
   "metadata": {},
   "outputs": [],
   "source": [
    "result= add_num(20,90)"
   ]
  },
  {
   "cell_type": "code",
   "execution_count": 19,
   "id": "d4b8d5c3",
   "metadata": {},
   "outputs": [
    {
     "data": {
      "text/plain": [
       "110"
      ]
     },
     "execution_count": 19,
     "metadata": {},
     "output_type": "execute_result"
    }
   ],
   "source": [
    "result"
   ]
  },
  {
   "cell_type": "code",
   "execution_count": 20,
   "id": "8873ac56",
   "metadata": {},
   "outputs": [],
   "source": [
    "def myfunc(a,b):\n",
    "    print(a+b)\n",
    "    return a+b"
   ]
  },
  {
   "cell_type": "code",
   "execution_count": 21,
   "id": "fd51533b",
   "metadata": {},
   "outputs": [
    {
     "name": "stdout",
     "output_type": "stream",
     "text": [
      "110\n"
     ]
    }
   ],
   "source": [
    "result = myfunc(20,90)"
   ]
  },
  {
   "cell_type": "code",
   "execution_count": 22,
   "id": "129e5e3d",
   "metadata": {},
   "outputs": [
    {
     "data": {
      "text/plain": [
       "110"
      ]
     },
     "execution_count": 22,
     "metadata": {},
     "output_type": "execute_result"
    }
   ],
   "source": [
    "result"
   ]
  },
  {
   "cell_type": "code",
   "execution_count": null,
   "id": "d30fe2ea",
   "metadata": {},
   "outputs": [],
   "source": []
  }
 ],
 "metadata": {
  "kernelspec": {
   "display_name": "Python 3",
   "language": "python",
   "name": "python3"
  },
  "language_info": {
   "codemirror_mode": {
    "name": "ipython",
    "version": 3
   },
   "file_extension": ".py",
   "mimetype": "text/x-python",
   "name": "python",
   "nbconvert_exporter": "python",
   "pygments_lexer": "ipython3",
   "version": "3.8.8"
  }
 },
 "nbformat": 4,
 "nbformat_minor": 5
}
