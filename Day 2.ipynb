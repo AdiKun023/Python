{
 "cells": [
  {
   "cell_type": "code",
   "execution_count": 12,
   "id": "fc11e612",
   "metadata": {},
   "outputs": [
    {
     "name": "stdout",
     "output_type": "stream",
     "text": [
      "Overwriting new_file.txt\n"
     ]
    }
   ],
   "source": [
    "%%writefile new_file.txt\n",
    "One on first\n",
    "Two on second\n",
    "Three on thrid"
   ]
  },
  {
   "cell_type": "code",
   "execution_count": 13,
   "id": "5c603462",
   "metadata": {},
   "outputs": [
    {
     "name": "stdout",
     "output_type": "stream",
     "text": [
      "One on first\n",
      "Two on second\n",
      "Three on thrid\n",
      "\n"
     ]
    }
   ],
   "source": [
    "with open('new_file.txt',mode='r') as f:\n",
    "    print (f.read())\n"
   ]
  },
  {
   "cell_type": "code",
   "execution_count": 14,
   "id": "b637989f",
   "metadata": {},
   "outputs": [],
   "source": [
    "with open ('new_file.txt',mode='a') as f:\n",
    "    f.write('Four on fourth')"
   ]
  },
  {
   "cell_type": "code",
   "execution_count": 6,
   "id": "f3852641",
   "metadata": {},
   "outputs": [
    {
     "name": "stdout",
     "output_type": "stream",
     "text": [
      "One on first\n",
      "Two on second\n",
      "Three on thrid\n",
      "Four on fourth\n"
     ]
    }
   ],
   "source": [
    "with open('new_file.txt',mode='r') as f:\n",
    "    print (f.read())"
   ]
  },
  {
   "cell_type": "code",
   "execution_count": 15,
   "id": "22cb36fc",
   "metadata": {},
   "outputs": [],
   "source": [
    "with open('new_file.txt',mode='a') as f:\n",
    "    f.write('\\nFive on fifth')"
   ]
  },
  {
   "cell_type": "code",
   "execution_count": 16,
   "id": "d2f7dd60",
   "metadata": {},
   "outputs": [
    {
     "name": "stdout",
     "output_type": "stream",
     "text": [
      "One on first\n",
      "Two on second\n",
      "Three on thrid\n",
      "Four on fourth\n",
      "Five on fifth\n"
     ]
    }
   ],
   "source": [
    "with open('new_file.txt',mode='r') as f:\n",
    "    print (f.read())"
   ]
  },
  {
   "cell_type": "code",
   "execution_count": 9,
   "id": "eab9e36c",
   "metadata": {},
   "outputs": [],
   "source": [
    "with open('new_file.txt',mode='a') as f:\n",
    "    f.write('\\nFive on fifth')"
   ]
  },
  {
   "cell_type": "code",
   "execution_count": 17,
   "id": "a8de1f31",
   "metadata": {},
   "outputs": [
    {
     "name": "stdout",
     "output_type": "stream",
     "text": [
      "One on first\n",
      "Two on second\n",
      "Three on thrid\n",
      "Four on fourth\n",
      "Five on fifth\n"
     ]
    }
   ],
   "source": [
    "with open('new_file.txt',mode='r') as f:\n",
    "    print (f.read())\n"
   ]
  },
  {
   "cell_type": "code",
   "execution_count": 20,
   "id": "c3a6c40a",
   "metadata": {},
   "outputs": [],
   "source": [
    "with open('november_2021.txt',mode='w') as f:\n",
    "    f.write('DAY 2')"
   ]
  },
  {
   "cell_type": "code",
   "execution_count": 22,
   "id": "26759086",
   "metadata": {},
   "outputs": [
    {
     "name": "stdout",
     "output_type": "stream",
     "text": [
      "DAY 2\n"
     ]
    }
   ],
   "source": [
    "with open('november_2021.txt',mode='r') as f:\n",
    "          print(f.read())"
   ]
  },
  {
   "cell_type": "code",
   "execution_count": null,
   "id": "28bafaa9",
   "metadata": {},
   "outputs": [],
   "source": []
  }
 ],
 "metadata": {
  "kernelspec": {
   "display_name": "Python 3",
   "language": "python",
   "name": "python3"
  },
  "language_info": {
   "codemirror_mode": {
    "name": "ipython",
    "version": 3
   },
   "file_extension": ".py",
   "mimetype": "text/x-python",
   "name": "python",
   "nbconvert_exporter": "python",
   "pygments_lexer": "ipython3",
   "version": "3.8.8"
  }
 },
 "nbformat": 4,
 "nbformat_minor": 5
}
